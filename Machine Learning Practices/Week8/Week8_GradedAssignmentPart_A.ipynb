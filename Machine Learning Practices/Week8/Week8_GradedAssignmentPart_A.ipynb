{
  "nbformat": 4,
  "nbformat_minor": 0,
  "metadata": {
    "colab": {
      "provenance": []
    },
    "kernelspec": {
      "name": "python3",
      "display_name": "Python 3"
    },
    "language_info": {
      "name": "python"
    }
  },
  "cells": [
    {
      "cell_type": "markdown",
      "source": [
        "Step 1: Download the dataset using following link: (https://drive.google.com/file/d/1v-uxWEgTI0GDCOTZOX3shUMkTf1a_CL7/view?usp=sharing)\n",
        "\n",
        "Step 2: Import the data in google colab using pd.read_csv().\n",
        "\n",
        "Step 3: Seperate features and target data in seperate variable X and Y.\n",
        "\n",
        "Step 4: Convert dataframe X and series y into array and save it in variable X_array,y_array.\n",
        "\n",
        "Step 5: Split the dataset using train_test_split. (Keep parameter test_size=0.3 and random_state=10).\n",
        "\n",
        "Step 6: Reshape the dataset in such a way that each entry of data has 90 samples.\n",
        "\n",
        "Step 7: Use SGD regressor as an estimator and partial_fit to fit the dataset on the model. (Set random_state=10)\n",
        "\n",
        "Step 8: Calculate different evaluation metrics value like mean_square_error, R2_score.\n",
        "\n",
        "Use the training set for fitting the model and use the test data to make the predictions.\n",
        "\n",
        "Note: No need to scale the data. It's already scaled."
      ],
      "metadata": {
        "id": "BjwZFGGpec6s"
      }
    },
    {
      "cell_type": "code",
      "execution_count": null,
      "metadata": {
        "id": "QW6dtsGTW7sW"
      },
      "outputs": [],
      "source": [
        "import numpy as np\n",
        "import pandas as pd"
      ]
    },
    {
      "cell_type": "markdown",
      "source": [
        "Step 2: Import the data in google colab using pd.read_csv()."
      ],
      "metadata": {
        "id": "JD-thtPdfQqw"
      }
    },
    {
      "cell_type": "code",
      "source": [
        "df = pd.read_csv('data_for_large_scale.csv')\n",
        "df.head()"
      ],
      "metadata": {
        "colab": {
          "base_uri": "https://localhost:8080/",
          "height": 244
        },
        "id": "8S-di9Q5XzzW",
        "outputId": "1f7eac52-7628-411f-9611-ab7a9949da54"
      },
      "execution_count": null,
      "outputs": [
        {
          "output_type": "execute_result",
          "data": {
            "text/plain": [
              "   Feature-1  Feature-2  Feature-3  Feature-4  Feature-5  Feature-6  \\\n",
              "0     -1.580     1.0500      1.060     -0.440      0.451    -0.0348   \n",
              "1     -0.832    -0.8660     -1.340      0.138      1.180     0.7330   \n",
              "2     -0.237     2.0900     -3.930      0.296      0.352    -0.5010   \n",
              "3     -1.170    -1.1300     -1.090      1.120      0.312     0.1830   \n",
              "4      0.260    -0.0273      0.925     -1.150     -1.390     0.0251   \n",
              "\n",
              "   Feature-7  Feature-8  Feature-9  Feature-10  Target  \n",
              "0      0.643     0.2650      0.268      -0.851    84.7  \n",
              "1     -1.410     0.1350     -0.088      -1.550  -211.0  \n",
              "2      0.961    -0.0287      1.820       0.938   -96.9  \n",
              "3      0.448    -0.8190     -1.010      -1.080  -152.0  \n",
              "4      0.627     0.0950     -0.280      -0.848   -57.7  "
            ],
            "text/html": [
              "\n",
              "  <div id=\"df-6a27e15d-17ff-4b6c-a35c-8622e4c176b0\" class=\"colab-df-container\">\n",
              "    <div>\n",
              "<style scoped>\n",
              "    .dataframe tbody tr th:only-of-type {\n",
              "        vertical-align: middle;\n",
              "    }\n",
              "\n",
              "    .dataframe tbody tr th {\n",
              "        vertical-align: top;\n",
              "    }\n",
              "\n",
              "    .dataframe thead th {\n",
              "        text-align: right;\n",
              "    }\n",
              "</style>\n",
              "<table border=\"1\" class=\"dataframe\">\n",
              "  <thead>\n",
              "    <tr style=\"text-align: right;\">\n",
              "      <th></th>\n",
              "      <th>Feature-1</th>\n",
              "      <th>Feature-2</th>\n",
              "      <th>Feature-3</th>\n",
              "      <th>Feature-4</th>\n",
              "      <th>Feature-5</th>\n",
              "      <th>Feature-6</th>\n",
              "      <th>Feature-7</th>\n",
              "      <th>Feature-8</th>\n",
              "      <th>Feature-9</th>\n",
              "      <th>Feature-10</th>\n",
              "      <th>Target</th>\n",
              "    </tr>\n",
              "  </thead>\n",
              "  <tbody>\n",
              "    <tr>\n",
              "      <th>0</th>\n",
              "      <td>-1.580</td>\n",
              "      <td>1.0500</td>\n",
              "      <td>1.060</td>\n",
              "      <td>-0.440</td>\n",
              "      <td>0.451</td>\n",
              "      <td>-0.0348</td>\n",
              "      <td>0.643</td>\n",
              "      <td>0.2650</td>\n",
              "      <td>0.268</td>\n",
              "      <td>-0.851</td>\n",
              "      <td>84.7</td>\n",
              "    </tr>\n",
              "    <tr>\n",
              "      <th>1</th>\n",
              "      <td>-0.832</td>\n",
              "      <td>-0.8660</td>\n",
              "      <td>-1.340</td>\n",
              "      <td>0.138</td>\n",
              "      <td>1.180</td>\n",
              "      <td>0.7330</td>\n",
              "      <td>-1.410</td>\n",
              "      <td>0.1350</td>\n",
              "      <td>-0.088</td>\n",
              "      <td>-1.550</td>\n",
              "      <td>-211.0</td>\n",
              "    </tr>\n",
              "    <tr>\n",
              "      <th>2</th>\n",
              "      <td>-0.237</td>\n",
              "      <td>2.0900</td>\n",
              "      <td>-3.930</td>\n",
              "      <td>0.296</td>\n",
              "      <td>0.352</td>\n",
              "      <td>-0.5010</td>\n",
              "      <td>0.961</td>\n",
              "      <td>-0.0287</td>\n",
              "      <td>1.820</td>\n",
              "      <td>0.938</td>\n",
              "      <td>-96.9</td>\n",
              "    </tr>\n",
              "    <tr>\n",
              "      <th>3</th>\n",
              "      <td>-1.170</td>\n",
              "      <td>-1.1300</td>\n",
              "      <td>-1.090</td>\n",
              "      <td>1.120</td>\n",
              "      <td>0.312</td>\n",
              "      <td>0.1830</td>\n",
              "      <td>0.448</td>\n",
              "      <td>-0.8190</td>\n",
              "      <td>-1.010</td>\n",
              "      <td>-1.080</td>\n",
              "      <td>-152.0</td>\n",
              "    </tr>\n",
              "    <tr>\n",
              "      <th>4</th>\n",
              "      <td>0.260</td>\n",
              "      <td>-0.0273</td>\n",
              "      <td>0.925</td>\n",
              "      <td>-1.150</td>\n",
              "      <td>-1.390</td>\n",
              "      <td>0.0251</td>\n",
              "      <td>0.627</td>\n",
              "      <td>0.0950</td>\n",
              "      <td>-0.280</td>\n",
              "      <td>-0.848</td>\n",
              "      <td>-57.7</td>\n",
              "    </tr>\n",
              "  </tbody>\n",
              "</table>\n",
              "</div>\n",
              "    <div class=\"colab-df-buttons\">\n",
              "\n",
              "  <div class=\"colab-df-container\">\n",
              "    <button class=\"colab-df-convert\" onclick=\"convertToInteractive('df-6a27e15d-17ff-4b6c-a35c-8622e4c176b0')\"\n",
              "            title=\"Convert this dataframe to an interactive table.\"\n",
              "            style=\"display:none;\">\n",
              "\n",
              "  <svg xmlns=\"http://www.w3.org/2000/svg\" height=\"24px\" viewBox=\"0 -960 960 960\">\n",
              "    <path d=\"M120-120v-720h720v720H120Zm60-500h600v-160H180v160Zm220 220h160v-160H400v160Zm0 220h160v-160H400v160ZM180-400h160v-160H180v160Zm440 0h160v-160H620v160ZM180-180h160v-160H180v160Zm440 0h160v-160H620v160Z\"/>\n",
              "  </svg>\n",
              "    </button>\n",
              "\n",
              "  <style>\n",
              "    .colab-df-container {\n",
              "      display:flex;\n",
              "      gap: 12px;\n",
              "    }\n",
              "\n",
              "    .colab-df-convert {\n",
              "      background-color: #E8F0FE;\n",
              "      border: none;\n",
              "      border-radius: 50%;\n",
              "      cursor: pointer;\n",
              "      display: none;\n",
              "      fill: #1967D2;\n",
              "      height: 32px;\n",
              "      padding: 0 0 0 0;\n",
              "      width: 32px;\n",
              "    }\n",
              "\n",
              "    .colab-df-convert:hover {\n",
              "      background-color: #E2EBFA;\n",
              "      box-shadow: 0px 1px 2px rgba(60, 64, 67, 0.3), 0px 1px 3px 1px rgba(60, 64, 67, 0.15);\n",
              "      fill: #174EA6;\n",
              "    }\n",
              "\n",
              "    .colab-df-buttons div {\n",
              "      margin-bottom: 4px;\n",
              "    }\n",
              "\n",
              "    [theme=dark] .colab-df-convert {\n",
              "      background-color: #3B4455;\n",
              "      fill: #D2E3FC;\n",
              "    }\n",
              "\n",
              "    [theme=dark] .colab-df-convert:hover {\n",
              "      background-color: #434B5C;\n",
              "      box-shadow: 0px 1px 3px 1px rgba(0, 0, 0, 0.15);\n",
              "      filter: drop-shadow(0px 1px 2px rgba(0, 0, 0, 0.3));\n",
              "      fill: #FFFFFF;\n",
              "    }\n",
              "  </style>\n",
              "\n",
              "    <script>\n",
              "      const buttonEl =\n",
              "        document.querySelector('#df-6a27e15d-17ff-4b6c-a35c-8622e4c176b0 button.colab-df-convert');\n",
              "      buttonEl.style.display =\n",
              "        google.colab.kernel.accessAllowed ? 'block' : 'none';\n",
              "\n",
              "      async function convertToInteractive(key) {\n",
              "        const element = document.querySelector('#df-6a27e15d-17ff-4b6c-a35c-8622e4c176b0');\n",
              "        const dataTable =\n",
              "          await google.colab.kernel.invokeFunction('convertToInteractive',\n",
              "                                                    [key], {});\n",
              "        if (!dataTable) return;\n",
              "\n",
              "        const docLinkHtml = 'Like what you see? Visit the ' +\n",
              "          '<a target=\"_blank\" href=https://colab.research.google.com/notebooks/data_table.ipynb>data table notebook</a>'\n",
              "          + ' to learn more about interactive tables.';\n",
              "        element.innerHTML = '';\n",
              "        dataTable['output_type'] = 'display_data';\n",
              "        await google.colab.output.renderOutput(dataTable, element);\n",
              "        const docLink = document.createElement('div');\n",
              "        docLink.innerHTML = docLinkHtml;\n",
              "        element.appendChild(docLink);\n",
              "      }\n",
              "    </script>\n",
              "  </div>\n",
              "\n",
              "\n",
              "<div id=\"df-80a0c53e-49fd-4b9d-a344-6363c9f5c972\">\n",
              "  <button class=\"colab-df-quickchart\" onclick=\"quickchart('df-80a0c53e-49fd-4b9d-a344-6363c9f5c972')\"\n",
              "            title=\"Suggest charts\"\n",
              "            style=\"display:none;\">\n",
              "\n",
              "<svg xmlns=\"http://www.w3.org/2000/svg\" height=\"24px\"viewBox=\"0 0 24 24\"\n",
              "     width=\"24px\">\n",
              "    <g>\n",
              "        <path d=\"M19 3H5c-1.1 0-2 .9-2 2v14c0 1.1.9 2 2 2h14c1.1 0 2-.9 2-2V5c0-1.1-.9-2-2-2zM9 17H7v-7h2v7zm4 0h-2V7h2v10zm4 0h-2v-4h2v4z\"/>\n",
              "    </g>\n",
              "</svg>\n",
              "  </button>\n",
              "\n",
              "<style>\n",
              "  .colab-df-quickchart {\n",
              "      --bg-color: #E8F0FE;\n",
              "      --fill-color: #1967D2;\n",
              "      --hover-bg-color: #E2EBFA;\n",
              "      --hover-fill-color: #174EA6;\n",
              "      --disabled-fill-color: #AAA;\n",
              "      --disabled-bg-color: #DDD;\n",
              "  }\n",
              "\n",
              "  [theme=dark] .colab-df-quickchart {\n",
              "      --bg-color: #3B4455;\n",
              "      --fill-color: #D2E3FC;\n",
              "      --hover-bg-color: #434B5C;\n",
              "      --hover-fill-color: #FFFFFF;\n",
              "      --disabled-bg-color: #3B4455;\n",
              "      --disabled-fill-color: #666;\n",
              "  }\n",
              "\n",
              "  .colab-df-quickchart {\n",
              "    background-color: var(--bg-color);\n",
              "    border: none;\n",
              "    border-radius: 50%;\n",
              "    cursor: pointer;\n",
              "    display: none;\n",
              "    fill: var(--fill-color);\n",
              "    height: 32px;\n",
              "    padding: 0;\n",
              "    width: 32px;\n",
              "  }\n",
              "\n",
              "  .colab-df-quickchart:hover {\n",
              "    background-color: var(--hover-bg-color);\n",
              "    box-shadow: 0 1px 2px rgba(60, 64, 67, 0.3), 0 1px 3px 1px rgba(60, 64, 67, 0.15);\n",
              "    fill: var(--button-hover-fill-color);\n",
              "  }\n",
              "\n",
              "  .colab-df-quickchart-complete:disabled,\n",
              "  .colab-df-quickchart-complete:disabled:hover {\n",
              "    background-color: var(--disabled-bg-color);\n",
              "    fill: var(--disabled-fill-color);\n",
              "    box-shadow: none;\n",
              "  }\n",
              "\n",
              "  .colab-df-spinner {\n",
              "    border: 2px solid var(--fill-color);\n",
              "    border-color: transparent;\n",
              "    border-bottom-color: var(--fill-color);\n",
              "    animation:\n",
              "      spin 1s steps(1) infinite;\n",
              "  }\n",
              "\n",
              "  @keyframes spin {\n",
              "    0% {\n",
              "      border-color: transparent;\n",
              "      border-bottom-color: var(--fill-color);\n",
              "      border-left-color: var(--fill-color);\n",
              "    }\n",
              "    20% {\n",
              "      border-color: transparent;\n",
              "      border-left-color: var(--fill-color);\n",
              "      border-top-color: var(--fill-color);\n",
              "    }\n",
              "    30% {\n",
              "      border-color: transparent;\n",
              "      border-left-color: var(--fill-color);\n",
              "      border-top-color: var(--fill-color);\n",
              "      border-right-color: var(--fill-color);\n",
              "    }\n",
              "    40% {\n",
              "      border-color: transparent;\n",
              "      border-right-color: var(--fill-color);\n",
              "      border-top-color: var(--fill-color);\n",
              "    }\n",
              "    60% {\n",
              "      border-color: transparent;\n",
              "      border-right-color: var(--fill-color);\n",
              "    }\n",
              "    80% {\n",
              "      border-color: transparent;\n",
              "      border-right-color: var(--fill-color);\n",
              "      border-bottom-color: var(--fill-color);\n",
              "    }\n",
              "    90% {\n",
              "      border-color: transparent;\n",
              "      border-bottom-color: var(--fill-color);\n",
              "    }\n",
              "  }\n",
              "</style>\n",
              "\n",
              "  <script>\n",
              "    async function quickchart(key) {\n",
              "      const quickchartButtonEl =\n",
              "        document.querySelector('#' + key + ' button');\n",
              "      quickchartButtonEl.disabled = true;  // To prevent multiple clicks.\n",
              "      quickchartButtonEl.classList.add('colab-df-spinner');\n",
              "      try {\n",
              "        const charts = await google.colab.kernel.invokeFunction(\n",
              "            'suggestCharts', [key], {});\n",
              "      } catch (error) {\n",
              "        console.error('Error during call to suggestCharts:', error);\n",
              "      }\n",
              "      quickchartButtonEl.classList.remove('colab-df-spinner');\n",
              "      quickchartButtonEl.classList.add('colab-df-quickchart-complete');\n",
              "    }\n",
              "    (() => {\n",
              "      let quickchartButtonEl =\n",
              "        document.querySelector('#df-80a0c53e-49fd-4b9d-a344-6363c9f5c972 button');\n",
              "      quickchartButtonEl.style.display =\n",
              "        google.colab.kernel.accessAllowed ? 'block' : 'none';\n",
              "    })();\n",
              "  </script>\n",
              "</div>\n",
              "\n",
              "    </div>\n",
              "  </div>\n"
            ],
            "application/vnd.google.colaboratory.intrinsic+json": {
              "type": "dataframe",
              "variable_name": "df",
              "summary": "{\n  \"name\": \"df\",\n  \"rows\": 90000,\n  \"fields\": [\n    {\n      \"column\": \"Feature-1\",\n      \"properties\": {\n        \"dtype\": \"number\",\n        \"std\": 1.0016204627815917,\n        \"min\": -4.28,\n        \"max\": 4.1,\n        \"num_unique_values\": 4668,\n        \"samples\": [\n          0.0117,\n          -0.366,\n          0.585\n        ],\n        \"semantic_type\": \"\",\n        \"description\": \"\"\n      }\n    },\n    {\n      \"column\": \"Feature-2\",\n      \"properties\": {\n        \"dtype\": \"number\",\n        \"std\": 0.9946402092993403,\n        \"min\": -4.0,\n        \"max\": 4.19,\n        \"num_unique_values\": 4677,\n        \"samples\": [\n          -0.0931,\n          -1.21,\n          -2.72\n        ],\n        \"semantic_type\": \"\",\n        \"description\": \"\"\n      }\n    },\n    {\n      \"column\": \"Feature-3\",\n      \"properties\": {\n        \"dtype\": \"number\",\n        \"std\": 1.001201474779849,\n        \"min\": -4.21,\n        \"max\": 4.38,\n        \"num_unique_values\": 4680,\n        \"samples\": [\n          -0.00992,\n          0.14,\n          -0.367\n        ],\n        \"semantic_type\": \"\",\n        \"description\": \"\"\n      }\n    },\n    {\n      \"column\": \"Feature-4\",\n      \"properties\": {\n        \"dtype\": \"number\",\n        \"std\": 0.9983777335185483,\n        \"min\": -4.2,\n        \"max\": 4.38,\n        \"num_unique_values\": 4692,\n        \"samples\": [\n          0.183,\n          -0.0119,\n          0.0824\n        ],\n        \"semantic_type\": \"\",\n        \"description\": \"\"\n      }\n    },\n    {\n      \"column\": \"Feature-5\",\n      \"properties\": {\n        \"dtype\": \"number\",\n        \"std\": 0.9994575190387315,\n        \"min\": -4.2,\n        \"max\": 4.73,\n        \"num_unique_values\": 4653,\n        \"samples\": [\n          -1.29,\n          0.0907,\n          1.91\n        ],\n        \"semantic_type\": \"\",\n        \"description\": \"\"\n      }\n    },\n    {\n      \"column\": \"Feature-6\",\n      \"properties\": {\n        \"dtype\": \"number\",\n        \"std\": 0.9968446167690065,\n        \"min\": -3.97,\n        \"max\": 4.44,\n        \"num_unique_values\": 4649,\n        \"samples\": [\n          -0.0017,\n          0.58,\n          0.124\n        ],\n        \"semantic_type\": \"\",\n        \"description\": \"\"\n      }\n    },\n    {\n      \"column\": \"Feature-7\",\n      \"properties\": {\n        \"dtype\": \"number\",\n        \"std\": 0.9989033012096403,\n        \"min\": -5.19,\n        \"max\": 4.6,\n        \"num_unique_values\": 4698,\n        \"samples\": [\n          -0.0821,\n          0.023,\n          1.05\n        ],\n        \"semantic_type\": \"\",\n        \"description\": \"\"\n      }\n    },\n    {\n      \"column\": \"Feature-8\",\n      \"properties\": {\n        \"dtype\": \"number\",\n        \"std\": 1.002482646850528,\n        \"min\": -4.05,\n        \"max\": 4.28,\n        \"num_unique_values\": 4704,\n        \"samples\": [\n          0.0872,\n          -0.0839,\n          0.0294\n        ],\n        \"semantic_type\": \"\",\n        \"description\": \"\"\n      }\n    },\n    {\n      \"column\": \"Feature-9\",\n      \"properties\": {\n        \"dtype\": \"number\",\n        \"std\": 1.0004080559494144,\n        \"min\": -4.43,\n        \"max\": 4.19,\n        \"num_unique_values\": 4696,\n        \"samples\": [\n          0.687,\n          0.0521,\n          -0.0843\n        ],\n        \"semantic_type\": \"\",\n        \"description\": \"\"\n      }\n    },\n    {\n      \"column\": \"Feature-10\",\n      \"properties\": {\n        \"dtype\": \"number\",\n        \"std\": 1.0013528518356054,\n        \"min\": -4.48,\n        \"max\": 4.26,\n        \"num_unique_values\": 4692,\n        \"samples\": [\n          -0.486,\n          0.0756,\n          0.0864\n        ],\n        \"semantic_type\": \"\",\n        \"description\": \"\"\n      }\n    },\n    {\n      \"column\": \"Target\",\n      \"properties\": {\n        \"dtype\": \"number\",\n        \"std\": 193.86857601295918,\n        \"min\": -790.0,\n        \"max\": 810.0,\n        \"num_unique_values\": 4773,\n        \"samples\": [\n          -221.0,\n          33.6,\n          7.1\n        ],\n        \"semantic_type\": \"\",\n        \"description\": \"\"\n      }\n    }\n  ]\n}"
            }
          },
          "metadata": {},
          "execution_count": 34
        }
      ]
    },
    {
      "cell_type": "markdown",
      "source": [
        "Step 3: Seperate features and target data in seperate variable X and Y."
      ],
      "metadata": {
        "id": "ePPoMAR2fdDZ"
      }
    },
    {
      "cell_type": "code",
      "source": [
        "X = df.drop(columns=['Target'])\n",
        "Y = df['Target']"
      ],
      "metadata": {
        "id": "ZMnFskvrbJxm"
      },
      "execution_count": null,
      "outputs": []
    },
    {
      "cell_type": "markdown",
      "source": [
        "1) How many fetaures are there in the dataset?"
      ],
      "metadata": {
        "id": "DeNqkyHSfB10"
      }
    },
    {
      "cell_type": "code",
      "source": [
        "X"
      ],
      "metadata": {
        "colab": {
          "base_uri": "https://localhost:8080/",
          "height": 461
        },
        "id": "q8EwXBnWbssi",
        "outputId": "2bf795e9-ab7f-4183-fd1c-f5cb0ce23230"
      },
      "execution_count": null,
      "outputs": [
        {
          "output_type": "execute_result",
          "data": {
            "text/plain": [
              "       Feature-1  Feature-2  Feature-3  Feature-4  Feature-5  Feature-6  \\\n",
              "0         -1.580     1.0500     1.0600     -0.440    0.45100    -0.0348   \n",
              "1         -0.832    -0.8660    -1.3400      0.138    1.18000     0.7330   \n",
              "2         -0.237     2.0900    -3.9300      0.296    0.35200    -0.5010   \n",
              "3         -1.170    -1.1300    -1.0900      1.120    0.31200     0.1830   \n",
              "4          0.260    -0.0273     0.9250     -1.150   -1.39000     0.0251   \n",
              "...          ...        ...        ...        ...        ...        ...   \n",
              "89995     -0.268    -0.3200    -0.0146     -0.251    1.76000     0.8590   \n",
              "89996     -0.774     0.4960     1.9400      0.673    0.29500    -0.0137   \n",
              "89997      0.509    -0.3220     0.6810     -0.276   -0.00553    -1.1000   \n",
              "89998      0.360     1.2500     0.6510     -0.871    0.37900     0.7690   \n",
              "89999     -0.860    -0.6010     0.7390      0.190   -0.33100    -1.2700   \n",
              "\n",
              "       Feature-7  Feature-8  Feature-9  Feature-10  \n",
              "0          0.643     0.2650      0.268     -0.8510  \n",
              "1         -1.410     0.1350     -0.088     -1.5500  \n",
              "2          0.961    -0.0287      1.820      0.9380  \n",
              "3          0.448    -0.8190     -1.010     -1.0800  \n",
              "4          0.627     0.0950     -0.280     -0.8480  \n",
              "...          ...        ...        ...         ...  \n",
              "89995     -1.090    -1.3800      1.760     -1.0900  \n",
              "89996     -0.966    -0.6270     -0.113      0.0767  \n",
              "89997      0.453     0.7270     -1.940     -2.0100  \n",
              "89998      1.330    -0.3670     -1.280     -1.1000  \n",
              "89999     -2.610    -0.4830     -1.380      1.1100  \n",
              "\n",
              "[90000 rows x 10 columns]"
            ],
            "text/html": [
              "\n",
              "  <div id=\"df-fab8bc96-8800-4607-ab12-4ace4e6e1c0c\" class=\"colab-df-container\">\n",
              "    <div>\n",
              "<style scoped>\n",
              "    .dataframe tbody tr th:only-of-type {\n",
              "        vertical-align: middle;\n",
              "    }\n",
              "\n",
              "    .dataframe tbody tr th {\n",
              "        vertical-align: top;\n",
              "    }\n",
              "\n",
              "    .dataframe thead th {\n",
              "        text-align: right;\n",
              "    }\n",
              "</style>\n",
              "<table border=\"1\" class=\"dataframe\">\n",
              "  <thead>\n",
              "    <tr style=\"text-align: right;\">\n",
              "      <th></th>\n",
              "      <th>Feature-1</th>\n",
              "      <th>Feature-2</th>\n",
              "      <th>Feature-3</th>\n",
              "      <th>Feature-4</th>\n",
              "      <th>Feature-5</th>\n",
              "      <th>Feature-6</th>\n",
              "      <th>Feature-7</th>\n",
              "      <th>Feature-8</th>\n",
              "      <th>Feature-9</th>\n",
              "      <th>Feature-10</th>\n",
              "    </tr>\n",
              "  </thead>\n",
              "  <tbody>\n",
              "    <tr>\n",
              "      <th>0</th>\n",
              "      <td>-1.580</td>\n",
              "      <td>1.0500</td>\n",
              "      <td>1.0600</td>\n",
              "      <td>-0.440</td>\n",
              "      <td>0.45100</td>\n",
              "      <td>-0.0348</td>\n",
              "      <td>0.643</td>\n",
              "      <td>0.2650</td>\n",
              "      <td>0.268</td>\n",
              "      <td>-0.8510</td>\n",
              "    </tr>\n",
              "    <tr>\n",
              "      <th>1</th>\n",
              "      <td>-0.832</td>\n",
              "      <td>-0.8660</td>\n",
              "      <td>-1.3400</td>\n",
              "      <td>0.138</td>\n",
              "      <td>1.18000</td>\n",
              "      <td>0.7330</td>\n",
              "      <td>-1.410</td>\n",
              "      <td>0.1350</td>\n",
              "      <td>-0.088</td>\n",
              "      <td>-1.5500</td>\n",
              "    </tr>\n",
              "    <tr>\n",
              "      <th>2</th>\n",
              "      <td>-0.237</td>\n",
              "      <td>2.0900</td>\n",
              "      <td>-3.9300</td>\n",
              "      <td>0.296</td>\n",
              "      <td>0.35200</td>\n",
              "      <td>-0.5010</td>\n",
              "      <td>0.961</td>\n",
              "      <td>-0.0287</td>\n",
              "      <td>1.820</td>\n",
              "      <td>0.9380</td>\n",
              "    </tr>\n",
              "    <tr>\n",
              "      <th>3</th>\n",
              "      <td>-1.170</td>\n",
              "      <td>-1.1300</td>\n",
              "      <td>-1.0900</td>\n",
              "      <td>1.120</td>\n",
              "      <td>0.31200</td>\n",
              "      <td>0.1830</td>\n",
              "      <td>0.448</td>\n",
              "      <td>-0.8190</td>\n",
              "      <td>-1.010</td>\n",
              "      <td>-1.0800</td>\n",
              "    </tr>\n",
              "    <tr>\n",
              "      <th>4</th>\n",
              "      <td>0.260</td>\n",
              "      <td>-0.0273</td>\n",
              "      <td>0.9250</td>\n",
              "      <td>-1.150</td>\n",
              "      <td>-1.39000</td>\n",
              "      <td>0.0251</td>\n",
              "      <td>0.627</td>\n",
              "      <td>0.0950</td>\n",
              "      <td>-0.280</td>\n",
              "      <td>-0.8480</td>\n",
              "    </tr>\n",
              "    <tr>\n",
              "      <th>...</th>\n",
              "      <td>...</td>\n",
              "      <td>...</td>\n",
              "      <td>...</td>\n",
              "      <td>...</td>\n",
              "      <td>...</td>\n",
              "      <td>...</td>\n",
              "      <td>...</td>\n",
              "      <td>...</td>\n",
              "      <td>...</td>\n",
              "      <td>...</td>\n",
              "    </tr>\n",
              "    <tr>\n",
              "      <th>89995</th>\n",
              "      <td>-0.268</td>\n",
              "      <td>-0.3200</td>\n",
              "      <td>-0.0146</td>\n",
              "      <td>-0.251</td>\n",
              "      <td>1.76000</td>\n",
              "      <td>0.8590</td>\n",
              "      <td>-1.090</td>\n",
              "      <td>-1.3800</td>\n",
              "      <td>1.760</td>\n",
              "      <td>-1.0900</td>\n",
              "    </tr>\n",
              "    <tr>\n",
              "      <th>89996</th>\n",
              "      <td>-0.774</td>\n",
              "      <td>0.4960</td>\n",
              "      <td>1.9400</td>\n",
              "      <td>0.673</td>\n",
              "      <td>0.29500</td>\n",
              "      <td>-0.0137</td>\n",
              "      <td>-0.966</td>\n",
              "      <td>-0.6270</td>\n",
              "      <td>-0.113</td>\n",
              "      <td>0.0767</td>\n",
              "    </tr>\n",
              "    <tr>\n",
              "      <th>89997</th>\n",
              "      <td>0.509</td>\n",
              "      <td>-0.3220</td>\n",
              "      <td>0.6810</td>\n",
              "      <td>-0.276</td>\n",
              "      <td>-0.00553</td>\n",
              "      <td>-1.1000</td>\n",
              "      <td>0.453</td>\n",
              "      <td>0.7270</td>\n",
              "      <td>-1.940</td>\n",
              "      <td>-2.0100</td>\n",
              "    </tr>\n",
              "    <tr>\n",
              "      <th>89998</th>\n",
              "      <td>0.360</td>\n",
              "      <td>1.2500</td>\n",
              "      <td>0.6510</td>\n",
              "      <td>-0.871</td>\n",
              "      <td>0.37900</td>\n",
              "      <td>0.7690</td>\n",
              "      <td>1.330</td>\n",
              "      <td>-0.3670</td>\n",
              "      <td>-1.280</td>\n",
              "      <td>-1.1000</td>\n",
              "    </tr>\n",
              "    <tr>\n",
              "      <th>89999</th>\n",
              "      <td>-0.860</td>\n",
              "      <td>-0.6010</td>\n",
              "      <td>0.7390</td>\n",
              "      <td>0.190</td>\n",
              "      <td>-0.33100</td>\n",
              "      <td>-1.2700</td>\n",
              "      <td>-2.610</td>\n",
              "      <td>-0.4830</td>\n",
              "      <td>-1.380</td>\n",
              "      <td>1.1100</td>\n",
              "    </tr>\n",
              "  </tbody>\n",
              "</table>\n",
              "<p>90000 rows × 10 columns</p>\n",
              "</div>\n",
              "    <div class=\"colab-df-buttons\">\n",
              "\n",
              "  <div class=\"colab-df-container\">\n",
              "    <button class=\"colab-df-convert\" onclick=\"convertToInteractive('df-fab8bc96-8800-4607-ab12-4ace4e6e1c0c')\"\n",
              "            title=\"Convert this dataframe to an interactive table.\"\n",
              "            style=\"display:none;\">\n",
              "\n",
              "  <svg xmlns=\"http://www.w3.org/2000/svg\" height=\"24px\" viewBox=\"0 -960 960 960\">\n",
              "    <path d=\"M120-120v-720h720v720H120Zm60-500h600v-160H180v160Zm220 220h160v-160H400v160Zm0 220h160v-160H400v160ZM180-400h160v-160H180v160Zm440 0h160v-160H620v160ZM180-180h160v-160H180v160Zm440 0h160v-160H620v160Z\"/>\n",
              "  </svg>\n",
              "    </button>\n",
              "\n",
              "  <style>\n",
              "    .colab-df-container {\n",
              "      display:flex;\n",
              "      gap: 12px;\n",
              "    }\n",
              "\n",
              "    .colab-df-convert {\n",
              "      background-color: #E8F0FE;\n",
              "      border: none;\n",
              "      border-radius: 50%;\n",
              "      cursor: pointer;\n",
              "      display: none;\n",
              "      fill: #1967D2;\n",
              "      height: 32px;\n",
              "      padding: 0 0 0 0;\n",
              "      width: 32px;\n",
              "    }\n",
              "\n",
              "    .colab-df-convert:hover {\n",
              "      background-color: #E2EBFA;\n",
              "      box-shadow: 0px 1px 2px rgba(60, 64, 67, 0.3), 0px 1px 3px 1px rgba(60, 64, 67, 0.15);\n",
              "      fill: #174EA6;\n",
              "    }\n",
              "\n",
              "    .colab-df-buttons div {\n",
              "      margin-bottom: 4px;\n",
              "    }\n",
              "\n",
              "    [theme=dark] .colab-df-convert {\n",
              "      background-color: #3B4455;\n",
              "      fill: #D2E3FC;\n",
              "    }\n",
              "\n",
              "    [theme=dark] .colab-df-convert:hover {\n",
              "      background-color: #434B5C;\n",
              "      box-shadow: 0px 1px 3px 1px rgba(0, 0, 0, 0.15);\n",
              "      filter: drop-shadow(0px 1px 2px rgba(0, 0, 0, 0.3));\n",
              "      fill: #FFFFFF;\n",
              "    }\n",
              "  </style>\n",
              "\n",
              "    <script>\n",
              "      const buttonEl =\n",
              "        document.querySelector('#df-fab8bc96-8800-4607-ab12-4ace4e6e1c0c button.colab-df-convert');\n",
              "      buttonEl.style.display =\n",
              "        google.colab.kernel.accessAllowed ? 'block' : 'none';\n",
              "\n",
              "      async function convertToInteractive(key) {\n",
              "        const element = document.querySelector('#df-fab8bc96-8800-4607-ab12-4ace4e6e1c0c');\n",
              "        const dataTable =\n",
              "          await google.colab.kernel.invokeFunction('convertToInteractive',\n",
              "                                                    [key], {});\n",
              "        if (!dataTable) return;\n",
              "\n",
              "        const docLinkHtml = 'Like what you see? Visit the ' +\n",
              "          '<a target=\"_blank\" href=https://colab.research.google.com/notebooks/data_table.ipynb>data table notebook</a>'\n",
              "          + ' to learn more about interactive tables.';\n",
              "        element.innerHTML = '';\n",
              "        dataTable['output_type'] = 'display_data';\n",
              "        await google.colab.output.renderOutput(dataTable, element);\n",
              "        const docLink = document.createElement('div');\n",
              "        docLink.innerHTML = docLinkHtml;\n",
              "        element.appendChild(docLink);\n",
              "      }\n",
              "    </script>\n",
              "  </div>\n",
              "\n",
              "\n",
              "<div id=\"df-351d610e-af7e-49cd-8a5b-f0aea97f8b18\">\n",
              "  <button class=\"colab-df-quickchart\" onclick=\"quickchart('df-351d610e-af7e-49cd-8a5b-f0aea97f8b18')\"\n",
              "            title=\"Suggest charts\"\n",
              "            style=\"display:none;\">\n",
              "\n",
              "<svg xmlns=\"http://www.w3.org/2000/svg\" height=\"24px\"viewBox=\"0 0 24 24\"\n",
              "     width=\"24px\">\n",
              "    <g>\n",
              "        <path d=\"M19 3H5c-1.1 0-2 .9-2 2v14c0 1.1.9 2 2 2h14c1.1 0 2-.9 2-2V5c0-1.1-.9-2-2-2zM9 17H7v-7h2v7zm4 0h-2V7h2v10zm4 0h-2v-4h2v4z\"/>\n",
              "    </g>\n",
              "</svg>\n",
              "  </button>\n",
              "\n",
              "<style>\n",
              "  .colab-df-quickchart {\n",
              "      --bg-color: #E8F0FE;\n",
              "      --fill-color: #1967D2;\n",
              "      --hover-bg-color: #E2EBFA;\n",
              "      --hover-fill-color: #174EA6;\n",
              "      --disabled-fill-color: #AAA;\n",
              "      --disabled-bg-color: #DDD;\n",
              "  }\n",
              "\n",
              "  [theme=dark] .colab-df-quickchart {\n",
              "      --bg-color: #3B4455;\n",
              "      --fill-color: #D2E3FC;\n",
              "      --hover-bg-color: #434B5C;\n",
              "      --hover-fill-color: #FFFFFF;\n",
              "      --disabled-bg-color: #3B4455;\n",
              "      --disabled-fill-color: #666;\n",
              "  }\n",
              "\n",
              "  .colab-df-quickchart {\n",
              "    background-color: var(--bg-color);\n",
              "    border: none;\n",
              "    border-radius: 50%;\n",
              "    cursor: pointer;\n",
              "    display: none;\n",
              "    fill: var(--fill-color);\n",
              "    height: 32px;\n",
              "    padding: 0;\n",
              "    width: 32px;\n",
              "  }\n",
              "\n",
              "  .colab-df-quickchart:hover {\n",
              "    background-color: var(--hover-bg-color);\n",
              "    box-shadow: 0 1px 2px rgba(60, 64, 67, 0.3), 0 1px 3px 1px rgba(60, 64, 67, 0.15);\n",
              "    fill: var(--button-hover-fill-color);\n",
              "  }\n",
              "\n",
              "  .colab-df-quickchart-complete:disabled,\n",
              "  .colab-df-quickchart-complete:disabled:hover {\n",
              "    background-color: var(--disabled-bg-color);\n",
              "    fill: var(--disabled-fill-color);\n",
              "    box-shadow: none;\n",
              "  }\n",
              "\n",
              "  .colab-df-spinner {\n",
              "    border: 2px solid var(--fill-color);\n",
              "    border-color: transparent;\n",
              "    border-bottom-color: var(--fill-color);\n",
              "    animation:\n",
              "      spin 1s steps(1) infinite;\n",
              "  }\n",
              "\n",
              "  @keyframes spin {\n",
              "    0% {\n",
              "      border-color: transparent;\n",
              "      border-bottom-color: var(--fill-color);\n",
              "      border-left-color: var(--fill-color);\n",
              "    }\n",
              "    20% {\n",
              "      border-color: transparent;\n",
              "      border-left-color: var(--fill-color);\n",
              "      border-top-color: var(--fill-color);\n",
              "    }\n",
              "    30% {\n",
              "      border-color: transparent;\n",
              "      border-left-color: var(--fill-color);\n",
              "      border-top-color: var(--fill-color);\n",
              "      border-right-color: var(--fill-color);\n",
              "    }\n",
              "    40% {\n",
              "      border-color: transparent;\n",
              "      border-right-color: var(--fill-color);\n",
              "      border-top-color: var(--fill-color);\n",
              "    }\n",
              "    60% {\n",
              "      border-color: transparent;\n",
              "      border-right-color: var(--fill-color);\n",
              "    }\n",
              "    80% {\n",
              "      border-color: transparent;\n",
              "      border-right-color: var(--fill-color);\n",
              "      border-bottom-color: var(--fill-color);\n",
              "    }\n",
              "    90% {\n",
              "      border-color: transparent;\n",
              "      border-bottom-color: var(--fill-color);\n",
              "    }\n",
              "  }\n",
              "</style>\n",
              "\n",
              "  <script>\n",
              "    async function quickchart(key) {\n",
              "      const quickchartButtonEl =\n",
              "        document.querySelector('#' + key + ' button');\n",
              "      quickchartButtonEl.disabled = true;  // To prevent multiple clicks.\n",
              "      quickchartButtonEl.classList.add('colab-df-spinner');\n",
              "      try {\n",
              "        const charts = await google.colab.kernel.invokeFunction(\n",
              "            'suggestCharts', [key], {});\n",
              "      } catch (error) {\n",
              "        console.error('Error during call to suggestCharts:', error);\n",
              "      }\n",
              "      quickchartButtonEl.classList.remove('colab-df-spinner');\n",
              "      quickchartButtonEl.classList.add('colab-df-quickchart-complete');\n",
              "    }\n",
              "    (() => {\n",
              "      let quickchartButtonEl =\n",
              "        document.querySelector('#df-351d610e-af7e-49cd-8a5b-f0aea97f8b18 button');\n",
              "      quickchartButtonEl.style.display =\n",
              "        google.colab.kernel.accessAllowed ? 'block' : 'none';\n",
              "    })();\n",
              "  </script>\n",
              "</div>\n",
              "\n",
              "  <div id=\"id_75c40f67-82e6-48cf-abe6-68b46f631531\">\n",
              "    <style>\n",
              "      .colab-df-generate {\n",
              "        background-color: #E8F0FE;\n",
              "        border: none;\n",
              "        border-radius: 50%;\n",
              "        cursor: pointer;\n",
              "        display: none;\n",
              "        fill: #1967D2;\n",
              "        height: 32px;\n",
              "        padding: 0 0 0 0;\n",
              "        width: 32px;\n",
              "      }\n",
              "\n",
              "      .colab-df-generate:hover {\n",
              "        background-color: #E2EBFA;\n",
              "        box-shadow: 0px 1px 2px rgba(60, 64, 67, 0.3), 0px 1px 3px 1px rgba(60, 64, 67, 0.15);\n",
              "        fill: #174EA6;\n",
              "      }\n",
              "\n",
              "      [theme=dark] .colab-df-generate {\n",
              "        background-color: #3B4455;\n",
              "        fill: #D2E3FC;\n",
              "      }\n",
              "\n",
              "      [theme=dark] .colab-df-generate:hover {\n",
              "        background-color: #434B5C;\n",
              "        box-shadow: 0px 1px 3px 1px rgba(0, 0, 0, 0.15);\n",
              "        filter: drop-shadow(0px 1px 2px rgba(0, 0, 0, 0.3));\n",
              "        fill: #FFFFFF;\n",
              "      }\n",
              "    </style>\n",
              "    <button class=\"colab-df-generate\" onclick=\"generateWithVariable('X')\"\n",
              "            title=\"Generate code using this dataframe.\"\n",
              "            style=\"display:none;\">\n",
              "\n",
              "  <svg xmlns=\"http://www.w3.org/2000/svg\" height=\"24px\"viewBox=\"0 0 24 24\"\n",
              "       width=\"24px\">\n",
              "    <path d=\"M7,19H8.4L18.45,9,17,7.55,7,17.6ZM5,21V16.75L18.45,3.32a2,2,0,0,1,2.83,0l1.4,1.43a1.91,1.91,0,0,1,.58,1.4,1.91,1.91,0,0,1-.58,1.4L9.25,21ZM18.45,9,17,7.55Zm-12,3A5.31,5.31,0,0,0,4.9,8.1,5.31,5.31,0,0,0,1,6.5,5.31,5.31,0,0,0,4.9,4.9,5.31,5.31,0,0,0,6.5,1,5.31,5.31,0,0,0,8.1,4.9,5.31,5.31,0,0,0,12,6.5,5.46,5.46,0,0,0,6.5,12Z\"/>\n",
              "  </svg>\n",
              "    </button>\n",
              "    <script>\n",
              "      (() => {\n",
              "      const buttonEl =\n",
              "        document.querySelector('#id_75c40f67-82e6-48cf-abe6-68b46f631531 button.colab-df-generate');\n",
              "      buttonEl.style.display =\n",
              "        google.colab.kernel.accessAllowed ? 'block' : 'none';\n",
              "\n",
              "      buttonEl.onclick = () => {\n",
              "        google.colab.notebook.generateWithVariable('X');\n",
              "      }\n",
              "      })();\n",
              "    </script>\n",
              "  </div>\n",
              "\n",
              "    </div>\n",
              "  </div>\n"
            ],
            "application/vnd.google.colaboratory.intrinsic+json": {
              "type": "dataframe",
              "variable_name": "X",
              "summary": "{\n  \"name\": \"X\",\n  \"rows\": 90000,\n  \"fields\": [\n    {\n      \"column\": \"Feature-1\",\n      \"properties\": {\n        \"dtype\": \"number\",\n        \"std\": 1.0016204627815917,\n        \"min\": -4.28,\n        \"max\": 4.1,\n        \"num_unique_values\": 4668,\n        \"samples\": [\n          0.0117,\n          -0.366,\n          0.585\n        ],\n        \"semantic_type\": \"\",\n        \"description\": \"\"\n      }\n    },\n    {\n      \"column\": \"Feature-2\",\n      \"properties\": {\n        \"dtype\": \"number\",\n        \"std\": 0.9946402092993403,\n        \"min\": -4.0,\n        \"max\": 4.19,\n        \"num_unique_values\": 4677,\n        \"samples\": [\n          -0.0931,\n          -1.21,\n          -2.72\n        ],\n        \"semantic_type\": \"\",\n        \"description\": \"\"\n      }\n    },\n    {\n      \"column\": \"Feature-3\",\n      \"properties\": {\n        \"dtype\": \"number\",\n        \"std\": 1.001201474779849,\n        \"min\": -4.21,\n        \"max\": 4.38,\n        \"num_unique_values\": 4680,\n        \"samples\": [\n          -0.00992,\n          0.14,\n          -0.367\n        ],\n        \"semantic_type\": \"\",\n        \"description\": \"\"\n      }\n    },\n    {\n      \"column\": \"Feature-4\",\n      \"properties\": {\n        \"dtype\": \"number\",\n        \"std\": 0.9983777335185483,\n        \"min\": -4.2,\n        \"max\": 4.38,\n        \"num_unique_values\": 4692,\n        \"samples\": [\n          0.183,\n          -0.0119,\n          0.0824\n        ],\n        \"semantic_type\": \"\",\n        \"description\": \"\"\n      }\n    },\n    {\n      \"column\": \"Feature-5\",\n      \"properties\": {\n        \"dtype\": \"number\",\n        \"std\": 0.9994575190387315,\n        \"min\": -4.2,\n        \"max\": 4.73,\n        \"num_unique_values\": 4653,\n        \"samples\": [\n          -1.29,\n          0.0907,\n          1.91\n        ],\n        \"semantic_type\": \"\",\n        \"description\": \"\"\n      }\n    },\n    {\n      \"column\": \"Feature-6\",\n      \"properties\": {\n        \"dtype\": \"number\",\n        \"std\": 0.9968446167690065,\n        \"min\": -3.97,\n        \"max\": 4.44,\n        \"num_unique_values\": 4649,\n        \"samples\": [\n          -0.0017,\n          0.58,\n          0.124\n        ],\n        \"semantic_type\": \"\",\n        \"description\": \"\"\n      }\n    },\n    {\n      \"column\": \"Feature-7\",\n      \"properties\": {\n        \"dtype\": \"number\",\n        \"std\": 0.9989033012096403,\n        \"min\": -5.19,\n        \"max\": 4.6,\n        \"num_unique_values\": 4698,\n        \"samples\": [\n          -0.0821,\n          0.023,\n          1.05\n        ],\n        \"semantic_type\": \"\",\n        \"description\": \"\"\n      }\n    },\n    {\n      \"column\": \"Feature-8\",\n      \"properties\": {\n        \"dtype\": \"number\",\n        \"std\": 1.002482646850528,\n        \"min\": -4.05,\n        \"max\": 4.28,\n        \"num_unique_values\": 4704,\n        \"samples\": [\n          0.0872,\n          -0.0839,\n          0.0294\n        ],\n        \"semantic_type\": \"\",\n        \"description\": \"\"\n      }\n    },\n    {\n      \"column\": \"Feature-9\",\n      \"properties\": {\n        \"dtype\": \"number\",\n        \"std\": 1.0004080559494144,\n        \"min\": -4.43,\n        \"max\": 4.19,\n        \"num_unique_values\": 4696,\n        \"samples\": [\n          0.687,\n          0.0521,\n          -0.0843\n        ],\n        \"semantic_type\": \"\",\n        \"description\": \"\"\n      }\n    },\n    {\n      \"column\": \"Feature-10\",\n      \"properties\": {\n        \"dtype\": \"number\",\n        \"std\": 1.0013528518356054,\n        \"min\": -4.48,\n        \"max\": 4.26,\n        \"num_unique_values\": 4692,\n        \"samples\": [\n          -0.486,\n          0.0756,\n          0.0864\n        ],\n        \"semantic_type\": \"\",\n        \"description\": \"\"\n      }\n    }\n  ]\n}"
            }
          },
          "metadata": {},
          "execution_count": 13
        }
      ]
    },
    {
      "cell_type": "code",
      "source": [
        "Y"
      ],
      "metadata": {
        "colab": {
          "base_uri": "https://localhost:8080/",
          "height": 458
        },
        "id": "5SIZoNejbyn4",
        "outputId": "5613b8a5-f946-4576-b58f-67d889bcaecc"
      },
      "execution_count": null,
      "outputs": [
        {
          "output_type": "execute_result",
          "data": {
            "text/plain": [
              "0         84.70\n",
              "1       -211.00\n",
              "2        -96.90\n",
              "3       -152.00\n",
              "4        -57.70\n",
              "          ...  \n",
              "89995     -4.15\n",
              "89996     63.50\n",
              "89997    -80.20\n",
              "89998    158.00\n",
              "89999   -369.00\n",
              "Name: Target, Length: 90000, dtype: float64"
            ],
            "text/html": [
              "<div>\n",
              "<style scoped>\n",
              "    .dataframe tbody tr th:only-of-type {\n",
              "        vertical-align: middle;\n",
              "    }\n",
              "\n",
              "    .dataframe tbody tr th {\n",
              "        vertical-align: top;\n",
              "    }\n",
              "\n",
              "    .dataframe thead th {\n",
              "        text-align: right;\n",
              "    }\n",
              "</style>\n",
              "<table border=\"1\" class=\"dataframe\">\n",
              "  <thead>\n",
              "    <tr style=\"text-align: right;\">\n",
              "      <th></th>\n",
              "      <th>Target</th>\n",
              "    </tr>\n",
              "  </thead>\n",
              "  <tbody>\n",
              "    <tr>\n",
              "      <th>0</th>\n",
              "      <td>84.70</td>\n",
              "    </tr>\n",
              "    <tr>\n",
              "      <th>1</th>\n",
              "      <td>-211.00</td>\n",
              "    </tr>\n",
              "    <tr>\n",
              "      <th>2</th>\n",
              "      <td>-96.90</td>\n",
              "    </tr>\n",
              "    <tr>\n",
              "      <th>3</th>\n",
              "      <td>-152.00</td>\n",
              "    </tr>\n",
              "    <tr>\n",
              "      <th>4</th>\n",
              "      <td>-57.70</td>\n",
              "    </tr>\n",
              "    <tr>\n",
              "      <th>...</th>\n",
              "      <td>...</td>\n",
              "    </tr>\n",
              "    <tr>\n",
              "      <th>89995</th>\n",
              "      <td>-4.15</td>\n",
              "    </tr>\n",
              "    <tr>\n",
              "      <th>89996</th>\n",
              "      <td>63.50</td>\n",
              "    </tr>\n",
              "    <tr>\n",
              "      <th>89997</th>\n",
              "      <td>-80.20</td>\n",
              "    </tr>\n",
              "    <tr>\n",
              "      <th>89998</th>\n",
              "      <td>158.00</td>\n",
              "    </tr>\n",
              "    <tr>\n",
              "      <th>89999</th>\n",
              "      <td>-369.00</td>\n",
              "    </tr>\n",
              "  </tbody>\n",
              "</table>\n",
              "<p>90000 rows × 1 columns</p>\n",
              "</div><br><label><b>dtype:</b> float64</label>"
            ]
          },
          "metadata": {},
          "execution_count": 15
        }
      ]
    },
    {
      "cell_type": "markdown",
      "source": [
        "Step 4: Convert dataframe X and series y into array and save it in variable X_array,y_array."
      ],
      "metadata": {
        "id": "Hm2WBupLfoSH"
      }
    },
    {
      "cell_type": "code",
      "source": [
        "X_array = X.to_numpy()\n",
        "y_array = y.to_numpy()\n",
        "print(X_array.shape)\n",
        "print(y_array.shape)"
      ],
      "metadata": {
        "colab": {
          "base_uri": "https://localhost:8080/"
        },
        "id": "0oMvMJocbzyQ",
        "outputId": "798d7be9-9309-421c-8c58-483cfad17521"
      },
      "execution_count": null,
      "outputs": [
        {
          "output_type": "stream",
          "name": "stdout",
          "text": [
            "(90000, 10)\n",
            "(90000,)\n"
          ]
        }
      ]
    },
    {
      "cell_type": "code",
      "source": [
        "print(type(X_array))  # Should print <class 'numpy.ndarray'>\n",
        "print(type(y_array))   # Should print <class 'numpy.ndarray'>"
      ],
      "metadata": {
        "colab": {
          "base_uri": "https://localhost:8080/"
        },
        "id": "_O5HgC96lGRB",
        "outputId": "ff0f6965-ff03-4624-83fb-04d581ab2c1b"
      },
      "execution_count": null,
      "outputs": [
        {
          "output_type": "stream",
          "name": "stdout",
          "text": [
            "<class 'numpy.ndarray'>\n",
            "<class 'numpy.ndarray'>\n"
          ]
        }
      ]
    },
    {
      "cell_type": "markdown",
      "source": [
        "Step 5: Split the dataset using train_test_split. (Keep parameter test_size=0.3 and random_state=10)."
      ],
      "metadata": {
        "id": "31A5PVr7gE0R"
      }
    },
    {
      "cell_type": "code",
      "source": [
        "from sklearn.model_selection import train_test_split\n",
        "X_train, X_test, y_train, y_test = train_test_split(X_array, y_array, test_size=0.3, random_state=10)"
      ],
      "metadata": {
        "id": "jwCfdQdDdJwT"
      },
      "execution_count": null,
      "outputs": []
    },
    {
      "cell_type": "code",
      "source": [
        "print(type(X_train))  # Should print <class 'numpy.ndarray'>\n",
        "print(type(X_test))   # Should print <class 'numpy.ndarray'>"
      ],
      "metadata": {
        "colab": {
          "base_uri": "https://localhost:8080/"
        },
        "id": "b_M0ZQTRlR5n",
        "outputId": "33a5a562-c765-4443-cbc9-a285a1bd53f6"
      },
      "execution_count": null,
      "outputs": [
        {
          "output_type": "stream",
          "name": "stdout",
          "text": [
            "<class 'numpy.ndarray'>\n",
            "<class 'numpy.ndarray'>\n"
          ]
        }
      ]
    },
    {
      "cell_type": "code",
      "source": [
        "print(\"Training set shape:\", X_train.shape)\n",
        "print(\"Test set shape:\", X_test.shape)"
      ],
      "metadata": {
        "colab": {
          "base_uri": "https://localhost:8080/"
        },
        "id": "CRC2FpBNghN9",
        "outputId": "d3af36de-639b-4c16-8c04-612c18035a11"
      },
      "execution_count": null,
      "outputs": [
        {
          "output_type": "stream",
          "name": "stdout",
          "text": [
            "Training set shape: (63000, 10)\n",
            "Test set shape: (27000, 10)\n"
          ]
        }
      ]
    },
    {
      "cell_type": "markdown",
      "source": [
        "Step 6: Reshape the dataset in such a way that each entry of data has 90 samples."
      ],
      "metadata": {
        "id": "TzFDlBvbgvCx"
      }
    },
    {
      "cell_type": "code",
      "source": [
        "X_train_reshaped = X_train.reshape(-1, 90, X_train.shape[1])\n",
        "X_test_reshaped = X_test.reshape(-1, 90, X_test.shape[1])\n",
        "y_train_reshaped = y_train.reshape(-1, 90)\n",
        "y_test_reshaped = y_test.reshape(-1, 90)\n",
        "\n",
        "print(\"X_train_reshaped Training set shape:\", X_train_reshaped.shape)\n",
        "print(\"X_test_reshaped Test set shape:\", X_test_reshaped.shape)\n",
        "print(\"y_train_reshaped Training set shape:\", y_train_reshaped.shape)\n",
        "print(\"y_test_reshaped Test set shape:\", y_test_reshaped.shape)"
      ],
      "metadata": {
        "colab": {
          "base_uri": "https://localhost:8080/"
        },
        "id": "fkZ_iYtigs0p",
        "outputId": "d5df9025-4dcf-4815-c794-633e1501401e"
      },
      "execution_count": null,
      "outputs": [
        {
          "output_type": "stream",
          "name": "stdout",
          "text": [
            "X_train_reshaped Training set shape: (700, 90, 10)\n",
            "X_test_reshaped Test set shape: (300, 90, 10)\n",
            "y_train_reshaped Training set shape: (700, 90)\n",
            "y_test_reshaped Test set shape: (300, 90)\n"
          ]
        }
      ]
    },
    {
      "cell_type": "markdown",
      "source": [
        "Step 7: Use SGD regressor as an estimator and partial_fit to fit the dataset on the model. (Set random_state=10)"
      ],
      "metadata": {
        "id": "qOy_s1tSmmSV"
      }
    },
    {
      "cell_type": "code",
      "source": [
        "from sklearn.linear_model import SGDRegressor\n",
        "\n",
        "# Initialize the model\n",
        "sgd_regressor = SGDRegressor(random_state=10)\n",
        "\n",
        "# Train using partial_fit\n",
        "for i in range(X_train_reshaped.shape[0]):\n",
        "  sgd_regressor.partial_fit(X_train_reshaped[i], y_train_reshaped[i])\n",
        "\n",
        "print(\"\\nTraining completed\")"
      ],
      "metadata": {
        "colab": {
          "base_uri": "https://localhost:8080/"
        },
        "id": "R15tiP-xg1Lq",
        "outputId": "8c54a89d-d441-4965-b594-26fdb77896f0"
      },
      "execution_count": null,
      "outputs": [
        {
          "output_type": "stream",
          "name": "stdout",
          "text": [
            "\n",
            "Training completed\n"
          ]
        }
      ]
    },
    {
      "cell_type": "markdown",
      "source": [
        "Step 8: Calculate different evaluation metrics value like mean_square_error, R2_score."
      ],
      "metadata": {
        "id": "YSp1xGDynyxU"
      }
    },
    {
      "cell_type": "code",
      "source": [
        "from sklearn.metrics import mean_squared_error, r2_score\n",
        "\n",
        "# Make predictions\n",
        "y_pred = np.concatenate([sgd_regressor.predict(X_test_reshaped[i]) for i in range(X_test_reshaped.shape[0])])\n",
        "\n",
        "# Flatten the actual test targets for comparison\n",
        "y_test_flat = y_test_reshaped.flatten()\n",
        "\n",
        "# Calculate evaluation metrics\n",
        "mse = mean_squared_error(y_test_flat, y_pred)\n",
        "r2 = r2_score(y_test_flat, y_pred)\n",
        "\n",
        "print(\"Mean Squared Error (MSE)\", mse)\n",
        "print(\"R2 score:\", r2)"
      ],
      "metadata": {
        "colab": {
          "base_uri": "https://localhost:8080/"
        },
        "id": "i5B6p2e6nqpa",
        "outputId": "f565e976-1e01-467c-a2e8-3c88056d7c77"
      },
      "execution_count": null,
      "outputs": [
        {
          "output_type": "stream",
          "name": "stdout",
          "text": [
            "Mean Squared Error (MSE) 0.30583364886439734\n",
            "R2 score: 0.9999919793766233\n"
          ]
        }
      ]
    },
    {
      "cell_type": "markdown",
      "source": [
        "2) What is the value of intercept you got after training the model using SGDRegressor?(select the closest answer)"
      ],
      "metadata": {
        "id": "dz8xnSrqoFZe"
      }
    },
    {
      "cell_type": "code",
      "source": [
        "intercept = sgd_regressor.intercept_\n",
        "print(\"Intercept of the trained model\",intercept)"
      ],
      "metadata": {
        "colab": {
          "base_uri": "https://localhost:8080/"
        },
        "id": "VMv9qpT6qfu8",
        "outputId": "0a1bba95-3b73-4584-ee57-a09d885e5b33"
      },
      "execution_count": null,
      "outputs": [
        {
          "output_type": "stream",
          "name": "stdout",
          "text": [
            "Intercept of the trained model [-0.0054532]\n"
          ]
        }
      ]
    },
    {
      "cell_type": "markdown",
      "source": [
        "3) What is the value of cofficient corresponding to \"feature-3\"you got after trainig the model using SGDRegressor? (select the closest answer)"
      ],
      "metadata": {
        "id": "l2lhpaE-s2_j"
      }
    },
    {
      "cell_type": "code",
      "source": [
        "# Get the coefficient corresponding to \"Feature-3\"\n",
        "feature_index = list(X.columns).index(\"Feature-3\") # Find the index of Feature-3\n",
        "coefficient = sgd_regressor.coef_[feature_index]\n",
        "\n",
        "# Print the coefficient\n",
        "print(f\"Coefficient for Feature-3: {coefficient}\")"
      ],
      "metadata": {
        "colab": {
          "base_uri": "https://localhost:8080/"
        },
        "id": "Yk9iofMbs2J4",
        "outputId": "a9a3a95c-e25a-4e22-c414-d2a237858556"
      },
      "execution_count": null,
      "outputs": [
        {
          "output_type": "stream",
          "name": "stdout",
          "text": [
            "Coefficient for Feature-3: 81.2376286796651\n"
          ]
        }
      ]
    },
    {
      "cell_type": "markdown",
      "source": [
        "4) What is the value of R2 score for test data"
      ],
      "metadata": {
        "id": "YqvYNvyouMVK"
      }
    },
    {
      "cell_type": "code",
      "source": [
        "print(\"R2 score:\", r2)"
      ],
      "metadata": {
        "colab": {
          "base_uri": "https://localhost:8080/"
        },
        "id": "j8H9kZ0oq0NH",
        "outputId": "32b8e6c1-cf3e-409b-9d82-aa2aab202bee"
      },
      "execution_count": null,
      "outputs": [
        {
          "output_type": "stream",
          "name": "stdout",
          "text": [
            "R2 score: 0.9999919793766233\n"
          ]
        }
      ]
    },
    {
      "cell_type": "markdown",
      "source": [
        "5) What is the value of cofficient corresponding to \"feature-5\" after 5th iteration."
      ],
      "metadata": {
        "id": "Rt0l26cpuV9-"
      }
    },
    {
      "cell_type": "code",
      "source": [
        "# Re-initialize the SGDRegressor for fresh training\n",
        "sgd_regressor = SGDRegressor(random_state=10)\n",
        "\n",
        "\n",
        "# Train using partial_fir for 5 iterations and get coefficient for \"Feature-5\"\n",
        "for i in range(5):\n",
        "  sgd_regressor.partial_fit(X_train_reshaped[i], y_train_reshaped[i])\n",
        "\n",
        "# Get the coefficient corresponding to \"Feature-5\" after 5th iteration\n",
        "feature_index = list(X.columns).index(\"Feature-5\")\n",
        "coefficient_feature_5 = sgd_regressor.coef_[feature_index]\n",
        "\n",
        "# Print the coefficient\n",
        "print(f\"Coefficient for Feature-5 after 5th iteration: {coefficient_feature_5}\")"
      ],
      "metadata": {
        "colab": {
          "base_uri": "https://localhost:8080/"
        },
        "id": "VFtrat2BuUpW",
        "outputId": "264a41f2-419b-4567-80f2-31590ee47c2e"
      },
      "execution_count": null,
      "outputs": [
        {
          "output_type": "stream",
          "name": "stdout",
          "text": [
            "Coefficient for Feature-5 after 5th iteration: 56.05563939842212\n"
          ]
        }
      ]
    },
    {
      "cell_type": "markdown",
      "source": [
        "\n",
        "(Common data for Q6 to Q8 Graded questions)\n",
        "\n",
        "This dataset was constructed by adding elevation information to a 2D road network in North Jutland, Denmark (covering a region of 185 x 135 km^2). Elevation values where extracted from a publicly available massive Laser Scan Point Cloud for Denmark. This 3D road network was eventually used for benchmarking various fuel and CO2 estimation algorithms. This dataset can be used by any applications that require to know very accurate elevation information of a road network to perform more accurate routing for eco-routing, cyclist routes etc. For the data mining and machine learning community, this dataset can be used as 'ground-truth' validation in spatial mining techniques and satellite image processing. It has no class labels,\n",
        "\n",
        "Use this dataset to guess some missing elevation information for some points on the road.\n",
        "\n",
        "Column names:\n",
        "\n",
        "    OSM_ID: OpenStreetMap ID for each road segment or edge in the graph.\n",
        "\n",
        "    LONGITUDE: Web Mercaptor (Google format) longitude\n",
        "\n",
        "    LATITUDE: Web Mercaptor (Google format) latitude\n",
        "\n",
        "    ALTITUDE: Height in meters.\n",
        "\n",
        "Load the dataset from link(\"https://archive.ics.uci.edu/ml/machine-learning-databases/00246/3D_spatial_network.txt\"). Set parameter chunk size=20000 and iterator =True in pd.read_csv().\n",
        "\n",
        "NOTE: The above file doesn't have column names\n",
        "\n",
        "Scale your whole dataset first with standard scalar using partial_fit method. Then use SGDRegressor(random state=10) on the dataset and answer the following.\n"
      ],
      "metadata": {
        "id": "g3NCyVA-kqUe"
      }
    },
    {
      "cell_type": "code",
      "source": [
        "import pandas as pd"
      ],
      "metadata": {
        "id": "LLvway29wE2I"
      },
      "execution_count": null,
      "outputs": []
    },
    {
      "cell_type": "code",
      "source": [
        "file_path = '/content/3D_spatial_network.txt'\n",
        "column_names = [\"OSM_ID\",\"LONGITUDE\",\"LATITUDE\",\"ALTITUDE\"]\n",
        "data_iterator = pd.read_csv(file_path, names=column_names, chunksize=20000, iterator=True)"
      ],
      "metadata": {
        "id": "4BIgrZb9rVjN"
      },
      "execution_count": null,
      "outputs": []
    },
    {
      "cell_type": "code",
      "source": [
        "# Count total samples\n",
        "total_samples = 0\n",
        "for chunk in data_iterator:\n",
        "  total_samples += len(chunk)\n",
        "\n",
        "\n",
        "# Print total number of samples\n",
        "print(\"Total number of samples in the dataset:\", total_samples)"
      ],
      "metadata": {
        "colab": {
          "base_uri": "https://localhost:8080/"
        },
        "id": "eGoHsCkRr43m",
        "outputId": "4648d7f0-fbc3-4ef9-9d41-722050bea4e5"
      },
      "execution_count": null,
      "outputs": [
        {
          "output_type": "stream",
          "name": "stdout",
          "text": [
            "Total number of samples in the dataset: 434874\n"
          ]
        }
      ]
    },
    {
      "cell_type": "code",
      "source": [
        "from sklearn.preprocessing import StandardScaler\n",
        "from sklearn.linear_model import SGDRegressor"
      ],
      "metadata": {
        "id": "6DJWRPLo0zkl"
      },
      "execution_count": null,
      "outputs": []
    },
    {
      "cell_type": "code",
      "source": [
        "import pandas as pd\n",
        "from sklearn.preprocessing import StandardScaler\n",
        "from sklearn.linear_model import SGDRegressor\n",
        "\n",
        "# Load the dataset in chunks from the local file in /content\n",
        "file_path = '/content/3D_spatial_network.txt'  # Ensure this file is uploaded to /content\n",
        "column_names = [\"OSM_ID\", \"LONGITUDE\", \"LATITUDE\", \"ALTITUDE\"]\n",
        "\n",
        "# Initialize chunk reader\n",
        "chunk_size = 20000\n",
        "data_iterator = pd.read_csv(file_path, names=column_names, chunksize=chunk_size, iterator=True)\n",
        "\n",
        "# Initialize StandardScaler and SGDRegressor\n",
        "scaler = StandardScaler()\n",
        "sgd_regressor = SGDRegressor(random_state=10)\n",
        "\n",
        "# Fit scaler using partial_fit and train SGDRegressor for 7 iterations\n",
        "iterations = 7\n",
        "for i, chunk in enumerate(data_iterator):\n",
        "    X_chunk = chunk[[\"LONGITUDE\", \"LATITUDE\"]].to_numpy()\n",
        "    y_chunk = chunk[\"ALTITUDE\"].to_numpy()\n",
        "\n",
        "    # Scale data using partial_fit\n",
        "    scaler.partial_fit(X_chunk)\n",
        "    X_chunk_scaled = scaler.transform(X_chunk)\n",
        "\n",
        "    # Train model\n",
        "    sgd_regressor.partial_fit(X_chunk_scaled, y_chunk)\n",
        "\n",
        "    if i + 1 == iterations:\n",
        "        break  # Stop after 7th iteration\n",
        "\n",
        "# Get the intercept after 7th iteration\n",
        "intercept_after_7th = sgd_regressor.intercept_\n",
        "\n",
        "# Print the intercept\n",
        "print(\"Intercept after 7th iteration:\", intercept_after_7th)\n",
        "\n"
      ],
      "metadata": {
        "colab": {
          "base_uri": "https://localhost:8080/"
        },
        "id": "NEiEMpN4DX_l",
        "outputId": "20ba89e3-65d2-4e3d-dc44-539fdf32a1ea"
      },
      "execution_count": null,
      "outputs": [
        {
          "output_type": "stream",
          "name": "stdout",
          "text": [
            "Intercept after 7th iteration: [21.23490369]\n"
          ]
        }
      ]
    },
    {
      "cell_type": "code",
      "source": [],
      "metadata": {
        "id": "SE0nOjrzKpL4"
      },
      "execution_count": null,
      "outputs": []
    }
  ]
}